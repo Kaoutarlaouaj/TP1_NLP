{
 "cells": [
  {
   "cell_type": "code",
   "execution_count": 3,
   "id": "c6c462b2-a9e8-40f5-b4a6-3ab353d0c68c",
   "metadata": {
    "tags": []
   },
   "outputs": [],
   "source": [
    "# Installation des bibliothèques nécessaires\n",
    "import pandas as pd\n",
    "import nltk\n",
    "import re\n",
    "from nltk.corpus import stopwords\n",
    "from nltk.stem import PorterStemmer, WordNetLemmatizer\n",
    "from collections import Counter"
   ]
  },
  {
   "cell_type": "code",
   "execution_count": 4,
   "id": "457f7528-eeb1-46a0-9b79-b4602791c677",
   "metadata": {
    "tags": []
   },
   "outputs": [
    {
     "name": "stderr",
     "output_type": "stream",
     "text": [
      "[nltk_data] Downloading package punkt to\n",
      "[nltk_data]     C:\\Users\\pc\\AppData\\Roaming\\nltk_data...\n",
      "[nltk_data]   Package punkt is already up-to-date!\n",
      "[nltk_data] Downloading package stopwords to\n",
      "[nltk_data]     C:\\Users\\pc\\AppData\\Roaming\\nltk_data...\n",
      "[nltk_data]   Package stopwords is already up-to-date!\n"
     ]
    },
    {
     "data": {
      "text/plain": [
       "True"
      ]
     },
     "execution_count": 4,
     "metadata": {},
     "output_type": "execute_result"
    }
   ],
   "source": [
    "# Téléchargement des ressources NLTK nécessaires\n",
    "nltk.download('punkt')\n",
    "nltk.download('stopwords')"
   ]
  },
  {
   "cell_type": "code",
   "execution_count": 5,
   "id": "92eed5eb-98e7-42d7-8552-694b475b1b8a",
   "metadata": {
    "tags": []
   },
   "outputs": [],
   "source": [
    "# Chargement des données depuis le fichier sample.csv\n",
    "df = pd.read_csv('sample.csv')"
   ]
  },
  {
   "cell_type": "code",
   "execution_count": 6,
   "id": "e94a5e1a-d811-4e33-8765-524c0c864511",
   "metadata": {
    "tags": []
   },
   "outputs": [
    {
     "name": "stdout",
     "output_type": "stream",
     "text": [
      "Avant nettoyage :\n",
      "0     @AppleSupport causing the reply to be disregar...\n",
      "1     @105835 Your business means a lot to us. Pleas...\n",
      "2     @76328 I really hope you all change but I'm su...\n",
      "3     @105836 LiveChat is online at the moment - htt...\n",
      "4     @VirginTrains see attached error message. I've...\n",
      "                            ...                        \n",
      "88    @105860 I wish Amazon had an option of where I...\n",
      "89    They reschedule my shit for tomorrow https://t...\n",
      "90    @105861 Hey Sara, sorry to hear of the issues ...\n",
      "91    @Tesco bit of both - finding the layout cumber...\n",
      "92    @105861 If that doesn't help please DM your fu...\n",
      "Name: text, Length: 93, dtype: object\n"
     ]
    }
   ],
   "source": [
    "# Affichage de la colonne text_cleaned avant nettoyage\n",
    "print(\"Avant nettoyage :\")\n",
    "print(df['text'])"
   ]
  },
  {
   "cell_type": "code",
   "execution_count": 7,
   "id": "e205f672-2beb-4e50-a54c-9c2c0419cfa1",
   "metadata": {
    "tags": []
   },
   "outputs": [
    {
     "name": "stdout",
     "output_type": "stream",
     "text": [
      "\n",
      "Après mise en minuscules :\n",
      "0     @applesupport causing the reply to be disregar...\n",
      "1     @105835 your business means a lot to us. pleas...\n",
      "2     @76328 i really hope you all change but i'm su...\n",
      "3     @105836 livechat is online at the moment - htt...\n",
      "4     @virgintrains see attached error message. i've...\n",
      "                            ...                        \n",
      "88    @105860 i wish amazon had an option of where i...\n",
      "89    they reschedule my shit for tomorrow https://t...\n",
      "90    @105861 hey sara, sorry to hear of the issues ...\n",
      "91    @tesco bit of both - finding the layout cumber...\n",
      "92    @105861 if that doesn't help please dm your fu...\n",
      "Name: text_cleaned, Length: 93, dtype: object\n"
     ]
    }
   ],
   "source": [
    "# Mise en minuscules\n",
    "df['text_cleaned'] = df['text'].apply(lambda x: x.lower())\n",
    "\n",
    "# Affichage de la colonne text_cleaned après mise en minuscules\n",
    "print(\"\\nAprès mise en minuscules :\")\n",
    "print(df['text_cleaned'])"
   ]
  },
  {
   "cell_type": "code",
   "execution_count": 8,
   "id": "f17261b7-42bc-4c4d-99de-cb0df357ca25",
   "metadata": {
    "tags": []
   },
   "outputs": [
    {
     "name": "stdout",
     "output_type": "stream",
     "text": [
      "\n",
      "Après suppression des ponctuations :\n",
      "0     applesupport causing the reply to be disregard...\n",
      "1     105835 your business means a lot to us please ...\n",
      "2     76328 i really hope you all change but im sure...\n",
      "3     105836 livechat is online at the moment  https...\n",
      "4     virgintrains see attached error message ive tr...\n",
      "                            ...                        \n",
      "88    105860 i wish amazon had an option of where i ...\n",
      "89    they reschedule my shit for tomorrow httpstcor...\n",
      "90    105861 hey sara sorry to hear of the issues yo...\n",
      "91    tesco bit of both  finding the layout cumberso...\n",
      "92    105861 if that doesnt help please dm your full...\n",
      "Name: text_cleaned, Length: 93, dtype: object\n"
     ]
    }
   ],
   "source": [
    "# Suppression des ponctuations\n",
    "df['text_cleaned'] = df['text_cleaned'].apply(lambda x: re.sub(r'[^\\w\\s]', '', x))\n",
    "\n",
    "# Affichage de la colonne text_cleaned après suppression des ponctuations\n",
    "print(\"\\nAprès suppression des ponctuations :\")\n",
    "print(df['text_cleaned'])"
   ]
  },
  {
   "cell_type": "code",
   "execution_count": 9,
   "id": "a8a9f144-3766-4896-a726-aa0a185bd740",
   "metadata": {
    "tags": []
   },
   "outputs": [
    {
     "name": "stdout",
     "output_type": "stream",
     "text": [
      "\n",
      "Après suppression des mots vides :\n",
      "0     applesupport causing reply disregarded tapped ...\n",
      "1     105835 business means lot us please dm name zi...\n",
      "2            76328 really hope change im sure wont dont\n",
      "3     105836 livechat online moment httpstcosy94vtu8...\n",
      "4     virgintrains see attached error message ive tr...\n",
      "                            ...                        \n",
      "88    105860 wish amazon option get shipped ups stor...\n",
      "89          reschedule shit tomorrow httpstcorsvzct982t\n",
      "90    105861 hey sara sorry hear issues ask lay spee...\n",
      "91    tesco bit finding layout cumbersome removing i...\n",
      "92    105861 doesnt help please dm full name address...\n",
      "Name: text_cleaned, Length: 93, dtype: object\n"
     ]
    }
   ],
   "source": [
    "# Suppression des mots vides (stopwords)\n",
    "stop_words = set(stopwords.words('english'))\n",
    "df['text_cleaned'] = df['text_cleaned'].apply(lambda x: ' '.join(word for word in x.split() if word not in stop_words))\n",
    "\n",
    "# Affichage de la colonne text_cleaned après suppression des mots vides\n",
    "print(\"\\nAprès suppression des mots vides :\")\n",
    "print(df['text_cleaned'])"
   ]
  },
  {
   "cell_type": "code",
   "execution_count": 10,
   "id": "2fe6ad62-8cae-4489-8b34-d237660cb960",
   "metadata": {
    "tags": []
   },
   "outputs": [
    {
     "name": "stdout",
     "output_type": "stream",
     "text": [
      "\n",
      "Après suppression des émojis, émoticônes, URL, balises HTML :\n",
      "0     applesupport causing reply disregarded tapped ...\n",
      "1     105835 business means lot us please dm name zi...\n",
      "2            76328 really hope change im sure wont dont\n",
      "3     105836 livechat online moment  contact 03331 0...\n",
      "4     virgintrains see attached error message ive tr...\n",
      "                            ...                        \n",
      "88    105860 wish amazon option get shipped ups stor...\n",
      "89                            reschedule shit tomorrow \n",
      "90    105861 hey sara sorry hear issues ask lay spee...\n",
      "91    tesco bit finding layout cumbersome removing i...\n",
      "92    105861 doesnt help please dm full name address...\n",
      "Name: text_cleaned, Length: 93, dtype: object\n"
     ]
    }
   ],
   "source": [
    "# Suppression des émojis, émoticônes, URL, balises HTML (utilisation d'expressions régulières)\n",
    "df['text_cleaned'] = df['text_cleaned'].apply(lambda x: re.sub(r'http\\S+|www\\S+|<[^>]+>', '', x))\n",
    "df['text_cleaned'] = df['text_cleaned'].apply(lambda x: re.sub(r'[^\\w\\s]','',x))\n",
    "\n",
    "# Affichage de la colonne text_cleaned après suppression des émojis, émoticônes, URL, balises HTML\n",
    "print(\"\\nAprès suppression des émojis, émoticônes, URL, balises HTML :\")\n",
    "print(df['text_cleaned'])"
   ]
  },
  {
   "cell_type": "code",
   "execution_count": 11,
   "id": "7a6fc771-9ee7-4755-92d6-7ec197286245",
   "metadata": {
    "tags": []
   },
   "outputs": [
    {
     "name": "stdout",
     "output_type": "stream",
     "text": [
      "\n",
      "Après suppression des mots extrêmement fréquents :\n",
      "0     applesupport causing reply disregarded tapped ...\n",
      "1     105835 business means lot us please dm name zi...\n",
      "2            76328 really hope change im sure wont dont\n",
      "3     105836 livechat online moment contact 03331 03...\n",
      "4     virgintrains see attached error message ive tr...\n",
      "                            ...                        \n",
      "88    105860 wish amazon option get shipped ups stor...\n",
      "89                             reschedule shit tomorrow\n",
      "90    105861 hey sara sorry hear issues ask lay spee...\n",
      "91    tesco bit finding layout cumbersome removing i...\n",
      "92    105861 doesnt help please dm full name address...\n",
      "Name: text_cleaned, Length: 93, dtype: object\n"
     ]
    }
   ],
   "source": [
    "# Suppression des mots extrêmement fréquents\n",
    "# Compter la fréquence de chaque mot dans le corpus\n",
    "word_freq = Counter()\n",
    "df['text_cleaned'].str.split().apply(word_freq.update)\n",
    "\n",
    "# Déterminer les mots extrêmement fréquents (par exemple, les mots qui apparaissent dans plus de 90% des documents)\n",
    "total_docs = len(df)\n",
    "common_words = [word for word, freq in word_freq.items() if freq > total_docs * 0.9]\n",
    "\n",
    "# Supprimer les mots extrêmement fréquents\n",
    "df['text_cleaned'] = df['text_cleaned'].apply(lambda x: ' '.join(word for word in x.split() if word not in common_words))\n",
    "\n",
    "# Affichage de la colonne text_cleaned après suppression des mots extrêmement fréquents\n",
    "print(\"\\nAprès suppression des mots extrêmement fréquents :\")\n",
    "print(df['text_cleaned'])"
   ]
  },
  {
   "cell_type": "code",
   "execution_count": 12,
   "id": "47bdc758-5052-4629-895c-5178255e0927",
   "metadata": {
    "tags": []
   },
   "outputs": [
    {
     "name": "stdout",
     "output_type": "stream",
     "text": [
      "\n",
      "Après suppression des mots rares :\n",
      "0                          applesupport\n",
      "1                     us please dm name\n",
      "2                                      \n",
      "3                                  back\n",
      "4                             ive tried\n",
      "                    ...                \n",
      "88                                  get\n",
      "89                                     \n",
      "90                                sorry\n",
      "91                                tesco\n",
      "92    help please dm name device thanks\n",
      "Name: text_cleaned, Length: 93, dtype: object\n"
     ]
    }
   ],
   "source": [
    "# Suppression des mots rares\n",
    "# Déterminer les mots rares (par exemple, les mots qui apparaissent dans moins de 5 documents)\n",
    "rare_words = [word for word, freq in word_freq.items() if freq < 5]\n",
    "\n",
    "# Supprimer les mots rares\n",
    "df['text_cleaned'] = df['text_cleaned'].apply(lambda x: ' '.join(word for word in x.split() if word not in rare_words))\n",
    "\n",
    "# Affichage de la colonne text_cleaned après suppression des mots rares\n",
    "print(\"\\nAprès suppression des mots rares :\")\n",
    "print(df['text_cleaned'])"
   ]
  },
  {
   "cell_type": "code",
   "execution_count": 13,
   "id": "ddc3fdfe-8573-4caf-acee-94fa906946ce",
   "metadata": {
    "tags": []
   },
   "outputs": [
    {
     "name": "stdout",
     "output_type": "stream",
     "text": [
      "\n",
      "Après stemming :\n",
      "0                       applesupport\n",
      "1                   us pleas dm name\n",
      "2                                   \n",
      "3                               back\n",
      "4                            ive tri\n",
      "                   ...              \n",
      "88                               get\n",
      "89                                  \n",
      "90                             sorri\n",
      "91                             tesco\n",
      "92    help pleas dm name devic thank\n",
      "Name: text_cleaned, Length: 93, dtype: object\n"
     ]
    }
   ],
   "source": [
    "# Stemming\n",
    "stemmer = PorterStemmer()\n",
    "df['text_cleaned'] = df['text_cleaned'].apply(lambda x: ' '.join(stemmer.stem(word) for word in x.split()))\n",
    "\n",
    "# Affichage de la colonne text_cleaned après stemming\n",
    "print(\"\\nAprès stemming :\")\n",
    "print(df['text_cleaned'])"
   ]
  },
  {
   "cell_type": "code",
   "execution_count": 14,
   "id": "915fb4e9-8d4d-47df-bcdb-528921971ed5",
   "metadata": {},
   "outputs": [
    {
     "name": "stdout",
     "output_type": "stream",
     "text": [
      "    tweet_id                                               text  \\\n",
      "0          1  @AppleSupport causing the reply to be disregar...   \n",
      "1          2  @105835 Your business means a lot to us. Pleas...   \n",
      "2          3  @76328 I really hope you all change but I'm su...   \n",
      "3          4  @105836 LiveChat is online at the moment - htt...   \n",
      "4          5  @VirginTrains see attached error message. I've...   \n",
      "..       ...                                                ...   \n",
      "88        89  @105860 I wish Amazon had an option of where I...   \n",
      "89        90  They reschedule my shit for tomorrow https://t...   \n",
      "90        91  @105861 Hey Sara, sorry to hear of the issues ...   \n",
      "91        92  @Tesco bit of both - finding the layout cumber...   \n",
      "92        93  @105861 If that doesn't help please DM your fu...   \n",
      "\n",
      "                      text_cleaned  \n",
      "0                     applesupport  \n",
      "1                 us pleas dm name  \n",
      "2                                   \n",
      "3                             back  \n",
      "4                          ive tri  \n",
      "..                             ...  \n",
      "88                             get  \n",
      "89                                  \n",
      "90                           sorri  \n",
      "91                           tesco  \n",
      "92  help pleas dm name devic thank  \n",
      "\n",
      "[93 rows x 3 columns]\n"
     ]
    }
   ],
   "source": [
    "# Ajout de la colonne 'tweet_id' avec des valeurs par défaut pour l'exemple\n",
    "df['tweet_id'] = range(1, len(df) + 1)\n",
    "\n",
    "# Réorganiser les colonnes dans l'ordre requis\n",
    "df = df[['tweet_id', 'text', 'text_cleaned']]\n",
    "\n",
    "# Affichage du dataframe final\n",
    "print(df)"
   ]
  },
  {
   "cell_type": "code",
   "execution_count": null,
   "id": "1858084b-7172-4d61-b6d7-ce37190e4160",
   "metadata": {},
   "outputs": [],
   "source": []
  }
 ],
 "metadata": {
  "kernelspec": {
   "display_name": "Python 3 (ipykernel)",
   "language": "python",
   "name": "python3"
  },
  "language_info": {
   "codemirror_mode": {
    "name": "ipython",
    "version": 3
   },
   "file_extension": ".py",
   "mimetype": "text/x-python",
   "name": "python",
   "nbconvert_exporter": "python",
   "pygments_lexer": "ipython3",
   "version": "3.11.5"
  }
 },
 "nbformat": 4,
 "nbformat_minor": 5
}
